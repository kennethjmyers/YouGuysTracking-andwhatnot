{
 "cells": [
  {
   "cell_type": "markdown",
   "metadata": {},
   "source": [
    "# Shelter Animal Outcomes 4\n",
    "\n",
    "About this attempt:\n",
    "\n",
    "- Uses XGBoost \n",
    "- Predicts on Name, Datetime, AnimalType, SexuponOutcome, AgeuponOutcome, Breed \n",
    "- Excludes training data with missing information \n",
    "- Missing ages in test data used the median of train data ages\n",
    "\n",
    "\n",
    "For more information see [this link](https://www.kaggle.com/c/shelter-animal-outcomes)."
   ]
  },
  {
   "cell_type": "code",
   "execution_count": 116,
   "metadata": {
    "collapsed": false
   },
   "outputs": [],
   "source": [
    "from collections import defaultdict\n",
    "from math import isnan\n",
    "from datetime import datetime\n",
    "import time\n",
    "\n",
    "import pandas as pd\n",
    "import numpy as np\n",
    "\n",
    "import xgboost as xgb\n",
    "\n",
    "from sklearn.grid_search import GridSearchCV\n",
    "from sklearn.cross_validation import StratifiedKFold\n",
    "from sklearn.cross_validation import cross_val_score\n",
    "from sklearn.metrics import auc\n",
    "\n",
    "import warnings\n",
    "warnings.filterwarnings('ignore')\n"
   ]
  },
  {
   "cell_type": "markdown",
   "metadata": {},
   "source": [
    "## Preprocessing"
   ]
  },
  {
   "cell_type": "code",
   "execution_count": 84,
   "metadata": {
    "collapsed": false
   },
   "outputs": [
    {
     "data": {
      "text/plain": [
       "['Adoption', 'Died', 'Euthanasia', 'Return_to_owner', 'Transfer']"
      ]
     },
     "execution_count": 84,
     "metadata": {},
     "output_type": "execute_result"
    }
   ],
   "source": [
    "train_data = pd.read_csv('../DATA/train.csv')\n",
    "class_headers = list(np.unique(train_data.OutcomeType))\n",
    "class_headers"
   ]
  },
  {
   "cell_type": "code",
   "execution_count": 85,
   "metadata": {
    "collapsed": false,
    "scrolled": true
   },
   "outputs": [
    {
     "data": {
      "text/html": [
       "<div>\n",
       "<table border=\"1\" class=\"dataframe\">\n",
       "  <thead>\n",
       "    <tr style=\"text-align: right;\">\n",
       "      <th></th>\n",
       "      <th>AnimalID</th>\n",
       "      <th>Name</th>\n",
       "      <th>DateTime</th>\n",
       "      <th>OutcomeType</th>\n",
       "      <th>OutcomeSubtype</th>\n",
       "      <th>AnimalType</th>\n",
       "      <th>SexuponOutcome</th>\n",
       "      <th>AgeuponOutcome</th>\n",
       "      <th>Breed</th>\n",
       "      <th>Color</th>\n",
       "    </tr>\n",
       "  </thead>\n",
       "  <tbody>\n",
       "    <tr>\n",
       "      <th>0</th>\n",
       "      <td>A671945</td>\n",
       "      <td>Hambone</td>\n",
       "      <td>2014-02-12 18:22:00</td>\n",
       "      <td>Return_to_owner</td>\n",
       "      <td>NaN</td>\n",
       "      <td>Dog</td>\n",
       "      <td>Neutered Male</td>\n",
       "      <td>1 year</td>\n",
       "      <td>Shetland Sheepdog Mix</td>\n",
       "      <td>Brown/White</td>\n",
       "    </tr>\n",
       "    <tr>\n",
       "      <th>1</th>\n",
       "      <td>A656520</td>\n",
       "      <td>Emily</td>\n",
       "      <td>2013-10-13 12:44:00</td>\n",
       "      <td>Euthanasia</td>\n",
       "      <td>Suffering</td>\n",
       "      <td>Cat</td>\n",
       "      <td>Spayed Female</td>\n",
       "      <td>1 year</td>\n",
       "      <td>Domestic Shorthair Mix</td>\n",
       "      <td>Cream Tabby</td>\n",
       "    </tr>\n",
       "    <tr>\n",
       "      <th>2</th>\n",
       "      <td>A686464</td>\n",
       "      <td>Pearce</td>\n",
       "      <td>2015-01-31 12:28:00</td>\n",
       "      <td>Adoption</td>\n",
       "      <td>Foster</td>\n",
       "      <td>Dog</td>\n",
       "      <td>Neutered Male</td>\n",
       "      <td>2 years</td>\n",
       "      <td>Pit Bull Mix</td>\n",
       "      <td>Blue/White</td>\n",
       "    </tr>\n",
       "    <tr>\n",
       "      <th>3</th>\n",
       "      <td>A683430</td>\n",
       "      <td>NaN</td>\n",
       "      <td>2014-07-11 19:09:00</td>\n",
       "      <td>Transfer</td>\n",
       "      <td>Partner</td>\n",
       "      <td>Cat</td>\n",
       "      <td>Intact Male</td>\n",
       "      <td>3 weeks</td>\n",
       "      <td>Domestic Shorthair Mix</td>\n",
       "      <td>Blue Cream</td>\n",
       "    </tr>\n",
       "    <tr>\n",
       "      <th>4</th>\n",
       "      <td>A667013</td>\n",
       "      <td>NaN</td>\n",
       "      <td>2013-11-15 12:52:00</td>\n",
       "      <td>Transfer</td>\n",
       "      <td>Partner</td>\n",
       "      <td>Dog</td>\n",
       "      <td>Neutered Male</td>\n",
       "      <td>2 years</td>\n",
       "      <td>Lhasa Apso/Miniature Poodle</td>\n",
       "      <td>Tan</td>\n",
       "    </tr>\n",
       "  </tbody>\n",
       "</table>\n",
       "</div>"
      ],
      "text/plain": [
       "  AnimalID     Name             DateTime      OutcomeType OutcomeSubtype  \\\n",
       "0  A671945  Hambone  2014-02-12 18:22:00  Return_to_owner            NaN   \n",
       "1  A656520    Emily  2013-10-13 12:44:00       Euthanasia      Suffering   \n",
       "2  A686464   Pearce  2015-01-31 12:28:00         Adoption         Foster   \n",
       "3  A683430      NaN  2014-07-11 19:09:00         Transfer        Partner   \n",
       "4  A667013      NaN  2013-11-15 12:52:00         Transfer        Partner   \n",
       "\n",
       "  AnimalType SexuponOutcome AgeuponOutcome                        Breed  \\\n",
       "0        Dog  Neutered Male         1 year        Shetland Sheepdog Mix   \n",
       "1        Cat  Spayed Female         1 year       Domestic Shorthair Mix   \n",
       "2        Dog  Neutered Male        2 years                 Pit Bull Mix   \n",
       "3        Cat    Intact Male        3 weeks       Domestic Shorthair Mix   \n",
       "4        Dog  Neutered Male        2 years  Lhasa Apso/Miniature Poodle   \n",
       "\n",
       "         Color  \n",
       "0  Brown/White  \n",
       "1  Cream Tabby  \n",
       "2   Blue/White  \n",
       "3   Blue Cream  \n",
       "4          Tan  "
      ]
     },
     "execution_count": 85,
     "metadata": {},
     "output_type": "execute_result"
    }
   ],
   "source": [
    "train_data.head()"
   ]
  },
  {
   "cell_type": "code",
   "execution_count": 86,
   "metadata": {
    "collapsed": false
   },
   "outputs": [],
   "source": [
    "useful_columns = ['OutcomeType','Name','DateTime','AnimalType',\\\n",
    "                  'SexuponOutcome','AgeuponOutcome','Breed'\n",
    "                 ]\n",
    "train_data = train_data[useful_columns]"
   ]
  },
  {
   "cell_type": "code",
   "execution_count": 87,
   "metadata": {
    "collapsed": false
   },
   "outputs": [
    {
     "data": {
      "text/plain": [
       "OutcomeType          0\n",
       "Name              7691\n",
       "DateTime             0\n",
       "AnimalType           0\n",
       "SexuponOutcome       1\n",
       "AgeuponOutcome      18\n",
       "Breed                0\n",
       "dtype: int64"
      ]
     },
     "execution_count": 87,
     "metadata": {},
     "output_type": "execute_result"
    }
   ],
   "source": [
    "train_data.isnull().sum()"
   ]
  },
  {
   "cell_type": "code",
   "execution_count": 88,
   "metadata": {
    "collapsed": false
   },
   "outputs": [],
   "source": [
    "train_data = train_data[train_data.AgeuponOutcome.notnull()]\n",
    "train_data = train_data[train_data.SexuponOutcome.notnull()]"
   ]
  },
  {
   "cell_type": "code",
   "execution_count": 89,
   "metadata": {
    "collapsed": false
   },
   "outputs": [
    {
     "data": {
      "text/plain": [
       "OutcomeType          0\n",
       "Name              7673\n",
       "DateTime             0\n",
       "AnimalType           0\n",
       "SexuponOutcome       0\n",
       "AgeuponOutcome       0\n",
       "Breed                0\n",
       "dtype: int64"
      ]
     },
     "execution_count": 89,
     "metadata": {},
     "output_type": "execute_result"
    }
   ],
   "source": [
    "train_data.isnull().sum()"
   ]
  },
  {
   "cell_type": "code",
   "execution_count": 90,
   "metadata": {
    "collapsed": false
   },
   "outputs": [
    {
     "data": {
      "text/html": [
       "<div>\n",
       "<table border=\"1\" class=\"dataframe\">\n",
       "  <thead>\n",
       "    <tr style=\"text-align: right;\">\n",
       "      <th></th>\n",
       "      <th>OutcomeType</th>\n",
       "      <th>Name</th>\n",
       "      <th>DateTime</th>\n",
       "      <th>AnimalType</th>\n",
       "      <th>SexuponOutcome</th>\n",
       "      <th>AgeuponOutcome</th>\n",
       "      <th>Breed</th>\n",
       "    </tr>\n",
       "  </thead>\n",
       "  <tbody>\n",
       "    <tr>\n",
       "      <th>0</th>\n",
       "      <td>Return_to_owner</td>\n",
       "      <td>Hambone</td>\n",
       "      <td>2014-02-12 18:22:00</td>\n",
       "      <td>Dog</td>\n",
       "      <td>Neutered Male</td>\n",
       "      <td>1 year</td>\n",
       "      <td>Shetland Sheepdog Mix</td>\n",
       "    </tr>\n",
       "    <tr>\n",
       "      <th>1</th>\n",
       "      <td>Euthanasia</td>\n",
       "      <td>Emily</td>\n",
       "      <td>2013-10-13 12:44:00</td>\n",
       "      <td>Cat</td>\n",
       "      <td>Spayed Female</td>\n",
       "      <td>1 year</td>\n",
       "      <td>Domestic Shorthair Mix</td>\n",
       "    </tr>\n",
       "    <tr>\n",
       "      <th>2</th>\n",
       "      <td>Adoption</td>\n",
       "      <td>Pearce</td>\n",
       "      <td>2015-01-31 12:28:00</td>\n",
       "      <td>Dog</td>\n",
       "      <td>Neutered Male</td>\n",
       "      <td>2 years</td>\n",
       "      <td>Pit Bull Mix</td>\n",
       "    </tr>\n",
       "    <tr>\n",
       "      <th>3</th>\n",
       "      <td>Transfer</td>\n",
       "      <td>NaN</td>\n",
       "      <td>2014-07-11 19:09:00</td>\n",
       "      <td>Cat</td>\n",
       "      <td>Intact Male</td>\n",
       "      <td>3 weeks</td>\n",
       "      <td>Domestic Shorthair Mix</td>\n",
       "    </tr>\n",
       "    <tr>\n",
       "      <th>4</th>\n",
       "      <td>Transfer</td>\n",
       "      <td>NaN</td>\n",
       "      <td>2013-11-15 12:52:00</td>\n",
       "      <td>Dog</td>\n",
       "      <td>Neutered Male</td>\n",
       "      <td>2 years</td>\n",
       "      <td>Lhasa Apso/Miniature Poodle</td>\n",
       "    </tr>\n",
       "  </tbody>\n",
       "</table>\n",
       "</div>"
      ],
      "text/plain": [
       "       OutcomeType     Name             DateTime AnimalType SexuponOutcome  \\\n",
       "0  Return_to_owner  Hambone  2014-02-12 18:22:00        Dog  Neutered Male   \n",
       "1       Euthanasia    Emily  2013-10-13 12:44:00        Cat  Spayed Female   \n",
       "2         Adoption   Pearce  2015-01-31 12:28:00        Dog  Neutered Male   \n",
       "3         Transfer      NaN  2014-07-11 19:09:00        Cat    Intact Male   \n",
       "4         Transfer      NaN  2013-11-15 12:52:00        Dog  Neutered Male   \n",
       "\n",
       "  AgeuponOutcome                        Breed  \n",
       "0         1 year        Shetland Sheepdog Mix  \n",
       "1         1 year       Domestic Shorthair Mix  \n",
       "2        2 years                 Pit Bull Mix  \n",
       "3        3 weeks       Domestic Shorthair Mix  \n",
       "4        2 years  Lhasa Apso/Miniature Poodle  "
      ]
     },
     "execution_count": 90,
     "metadata": {},
     "output_type": "execute_result"
    }
   ],
   "source": [
    "train_data.head()"
   ]
  },
  {
   "cell_type": "markdown",
   "metadata": {},
   "source": [
    "This time we will rework breed data according to the following:\n",
    "\n",
    "- 1 = purebreed\n",
    "- 0 = mixbreed\n",
    "\n",
    "And Name data according to the following:\n",
    "\n",
    "- 1 = Has Name\n",
    "- 2 = No Name\n",
    "\n",
    "we will also convert datetime to a unix number of date"
   ]
  },
  {
   "cell_type": "code",
   "execution_count": 91,
   "metadata": {
    "collapsed": true
   },
   "outputs": [],
   "source": [
    "def is_purebreed(breed):\n",
    "    if 'mix' in breed.lower() or '/' in breed:\n",
    "        return 0\n",
    "    else:\n",
    "        return 1\n",
    "\n",
    "def has_name(name):\n",
    "    try:\n",
    "        if isnan(name):\n",
    "            return 0\n",
    "    except: \n",
    "        return 1\n",
    "\n",
    "def convert_datetime(dt):\n",
    "    t = datetime.strptime(dt.split()[0],'%Y-%m-%d') #split and just take date\n",
    "    d = t.timetuple()\n",
    "    return time.mktime(d)"
   ]
  },
  {
   "cell_type": "code",
   "execution_count": 92,
   "metadata": {
    "collapsed": false
   },
   "outputs": [
    {
     "data": {
      "text/html": [
       "<div>\n",
       "<table border=\"1\" class=\"dataframe\">\n",
       "  <thead>\n",
       "    <tr style=\"text-align: right;\">\n",
       "      <th></th>\n",
       "      <th>OutcomeType</th>\n",
       "      <th>Name</th>\n",
       "      <th>DateTime</th>\n",
       "      <th>AnimalType</th>\n",
       "      <th>SexuponOutcome</th>\n",
       "      <th>AgeuponOutcome</th>\n",
       "      <th>Breed</th>\n",
       "    </tr>\n",
       "  </thead>\n",
       "  <tbody>\n",
       "    <tr>\n",
       "      <th>0</th>\n",
       "      <td>Return_to_owner</td>\n",
       "      <td>1</td>\n",
       "      <td>1392181200</td>\n",
       "      <td>Dog</td>\n",
       "      <td>Neutered Male</td>\n",
       "      <td>1 year</td>\n",
       "      <td>0</td>\n",
       "    </tr>\n",
       "    <tr>\n",
       "      <th>1</th>\n",
       "      <td>Euthanasia</td>\n",
       "      <td>1</td>\n",
       "      <td>1381636800</td>\n",
       "      <td>Cat</td>\n",
       "      <td>Spayed Female</td>\n",
       "      <td>1 year</td>\n",
       "      <td>0</td>\n",
       "    </tr>\n",
       "    <tr>\n",
       "      <th>2</th>\n",
       "      <td>Adoption</td>\n",
       "      <td>1</td>\n",
       "      <td>1422680400</td>\n",
       "      <td>Dog</td>\n",
       "      <td>Neutered Male</td>\n",
       "      <td>2 years</td>\n",
       "      <td>0</td>\n",
       "    </tr>\n",
       "    <tr>\n",
       "      <th>3</th>\n",
       "      <td>Transfer</td>\n",
       "      <td>0</td>\n",
       "      <td>1405051200</td>\n",
       "      <td>Cat</td>\n",
       "      <td>Intact Male</td>\n",
       "      <td>3 weeks</td>\n",
       "      <td>0</td>\n",
       "    </tr>\n",
       "    <tr>\n",
       "      <th>4</th>\n",
       "      <td>Transfer</td>\n",
       "      <td>0</td>\n",
       "      <td>1384491600</td>\n",
       "      <td>Dog</td>\n",
       "      <td>Neutered Male</td>\n",
       "      <td>2 years</td>\n",
       "      <td>0</td>\n",
       "    </tr>\n",
       "  </tbody>\n",
       "</table>\n",
       "</div>"
      ],
      "text/plain": [
       "       OutcomeType  Name    DateTime AnimalType SexuponOutcome AgeuponOutcome  \\\n",
       "0  Return_to_owner     1  1392181200        Dog  Neutered Male         1 year   \n",
       "1       Euthanasia     1  1381636800        Cat  Spayed Female         1 year   \n",
       "2         Adoption     1  1422680400        Dog  Neutered Male        2 years   \n",
       "3         Transfer     0  1405051200        Cat    Intact Male        3 weeks   \n",
       "4         Transfer     0  1384491600        Dog  Neutered Male        2 years   \n",
       "\n",
       "   Breed  \n",
       "0      0  \n",
       "1      0  \n",
       "2      0  \n",
       "3      0  \n",
       "4      0  "
      ]
     },
     "execution_count": 92,
     "metadata": {},
     "output_type": "execute_result"
    }
   ],
   "source": [
    "train_data.Breed = train_data.Breed.apply(is_purebreed)\n",
    "train_data.Name = train_data.Name.apply(has_name)\n",
    "train_data.DateTime = train_data.DateTime.apply(convert_datetime)\n",
    "train_data.head()"
   ]
  },
  {
   "cell_type": "markdown",
   "metadata": {},
   "source": [
    "Now lets fix the ages:"
   ]
  },
  {
   "cell_type": "code",
   "execution_count": 93,
   "metadata": {
    "collapsed": true
   },
   "outputs": [],
   "source": [
    "def convert_date(age):\n",
    "    age = age.split()\n",
    "    age[0] = int(age[0])\n",
    "    if age[1] == 'day' or age[1] == 'days':\n",
    "        return age[0]\n",
    "    elif age[1] == 'week' or age[1] == 'weeks':\n",
    "        return age[0]*7\n",
    "    elif age[1] == 'month' or age[1] == 'months':\n",
    "        return age[0]*30\n",
    "    elif age[1] == 'year' or age[1] == 'years':\n",
    "        return age[0]*365\n",
    "    \n",
    "train_data.AgeuponOutcome = train_data.AgeuponOutcome.apply(convert_date)"
   ]
  },
  {
   "cell_type": "markdown",
   "metadata": {},
   "source": [
    "It may be important to note that there are many unknown sexes"
   ]
  },
  {
   "cell_type": "code",
   "execution_count": 94,
   "metadata": {
    "collapsed": false,
    "scrolled": true
   },
   "outputs": [
    {
     "data": {
      "text/html": [
       "<div>\n",
       "<table border=\"1\" class=\"dataframe\">\n",
       "  <thead>\n",
       "    <tr style=\"text-align: right;\">\n",
       "      <th></th>\n",
       "      <th>OutcomeType</th>\n",
       "      <th>Name</th>\n",
       "      <th>DateTime</th>\n",
       "      <th>AnimalType</th>\n",
       "      <th>AgeuponOutcome</th>\n",
       "      <th>Breed</th>\n",
       "    </tr>\n",
       "    <tr>\n",
       "      <th>SexuponOutcome</th>\n",
       "      <th></th>\n",
       "      <th></th>\n",
       "      <th></th>\n",
       "      <th></th>\n",
       "      <th></th>\n",
       "      <th></th>\n",
       "    </tr>\n",
       "  </thead>\n",
       "  <tbody>\n",
       "    <tr>\n",
       "      <th>Intact Female</th>\n",
       "      <td>3504</td>\n",
       "      <td>3504</td>\n",
       "      <td>3504</td>\n",
       "      <td>3504</td>\n",
       "      <td>3504</td>\n",
       "      <td>3504</td>\n",
       "    </tr>\n",
       "    <tr>\n",
       "      <th>Intact Male</th>\n",
       "      <td>3519</td>\n",
       "      <td>3519</td>\n",
       "      <td>3519</td>\n",
       "      <td>3519</td>\n",
       "      <td>3519</td>\n",
       "      <td>3519</td>\n",
       "    </tr>\n",
       "    <tr>\n",
       "      <th>Neutered Male</th>\n",
       "      <td>9779</td>\n",
       "      <td>9779</td>\n",
       "      <td>9779</td>\n",
       "      <td>9779</td>\n",
       "      <td>9779</td>\n",
       "      <td>9779</td>\n",
       "    </tr>\n",
       "    <tr>\n",
       "      <th>Spayed Female</th>\n",
       "      <td>8819</td>\n",
       "      <td>8819</td>\n",
       "      <td>8819</td>\n",
       "      <td>8819</td>\n",
       "      <td>8819</td>\n",
       "      <td>8819</td>\n",
       "    </tr>\n",
       "    <tr>\n",
       "      <th>Unknown</th>\n",
       "      <td>1089</td>\n",
       "      <td>1089</td>\n",
       "      <td>1089</td>\n",
       "      <td>1089</td>\n",
       "      <td>1089</td>\n",
       "      <td>1089</td>\n",
       "    </tr>\n",
       "  </tbody>\n",
       "</table>\n",
       "</div>"
      ],
      "text/plain": [
       "                OutcomeType  Name  DateTime  AnimalType  AgeuponOutcome  Breed\n",
       "SexuponOutcome                                                                \n",
       "Intact Female          3504  3504      3504        3504            3504   3504\n",
       "Intact Male            3519  3519      3519        3519            3519   3519\n",
       "Neutered Male          9779  9779      9779        9779            9779   9779\n",
       "Spayed Female          8819  8819      8819        8819            8819   8819\n",
       "Unknown                1089  1089      1089        1089            1089   1089"
      ]
     },
     "execution_count": 94,
     "metadata": {},
     "output_type": "execute_result"
    }
   ],
   "source": [
    "train_data.groupby('SexuponOutcome').count()"
   ]
  },
  {
   "cell_type": "markdown",
   "metadata": {},
   "source": [
    "It may also be important to note that the classes are pretty imbalanced"
   ]
  },
  {
   "cell_type": "code",
   "execution_count": 95,
   "metadata": {
    "collapsed": false,
    "scrolled": true
   },
   "outputs": [
    {
     "data": {
      "text/html": [
       "<div>\n",
       "<table border=\"1\" class=\"dataframe\">\n",
       "  <thead>\n",
       "    <tr style=\"text-align: right;\">\n",
       "      <th></th>\n",
       "      <th>Name</th>\n",
       "      <th>DateTime</th>\n",
       "      <th>AnimalType</th>\n",
       "      <th>SexuponOutcome</th>\n",
       "      <th>AgeuponOutcome</th>\n",
       "      <th>Breed</th>\n",
       "    </tr>\n",
       "    <tr>\n",
       "      <th>OutcomeType</th>\n",
       "      <th></th>\n",
       "      <th></th>\n",
       "      <th></th>\n",
       "      <th></th>\n",
       "      <th></th>\n",
       "      <th></th>\n",
       "    </tr>\n",
       "  </thead>\n",
       "  <tbody>\n",
       "    <tr>\n",
       "      <th>Adoption</th>\n",
       "      <td>10769</td>\n",
       "      <td>10769</td>\n",
       "      <td>10769</td>\n",
       "      <td>10769</td>\n",
       "      <td>10769</td>\n",
       "      <td>10769</td>\n",
       "    </tr>\n",
       "    <tr>\n",
       "      <th>Died</th>\n",
       "      <td>197</td>\n",
       "      <td>197</td>\n",
       "      <td>197</td>\n",
       "      <td>197</td>\n",
       "      <td>197</td>\n",
       "      <td>197</td>\n",
       "    </tr>\n",
       "    <tr>\n",
       "      <th>Euthanasia</th>\n",
       "      <td>1553</td>\n",
       "      <td>1553</td>\n",
       "      <td>1553</td>\n",
       "      <td>1553</td>\n",
       "      <td>1553</td>\n",
       "      <td>1553</td>\n",
       "    </tr>\n",
       "    <tr>\n",
       "      <th>Return_to_owner</th>\n",
       "      <td>4785</td>\n",
       "      <td>4785</td>\n",
       "      <td>4785</td>\n",
       "      <td>4785</td>\n",
       "      <td>4785</td>\n",
       "      <td>4785</td>\n",
       "    </tr>\n",
       "    <tr>\n",
       "      <th>Transfer</th>\n",
       "      <td>9406</td>\n",
       "      <td>9406</td>\n",
       "      <td>9406</td>\n",
       "      <td>9406</td>\n",
       "      <td>9406</td>\n",
       "      <td>9406</td>\n",
       "    </tr>\n",
       "  </tbody>\n",
       "</table>\n",
       "</div>"
      ],
      "text/plain": [
       "                  Name  DateTime  AnimalType  SexuponOutcome  AgeuponOutcome  \\\n",
       "OutcomeType                                                                    \n",
       "Adoption         10769     10769       10769           10769           10769   \n",
       "Died               197       197         197             197             197   \n",
       "Euthanasia        1553      1553        1553            1553            1553   \n",
       "Return_to_owner   4785      4785        4785            4785            4785   \n",
       "Transfer          9406      9406        9406            9406            9406   \n",
       "\n",
       "                 Breed  \n",
       "OutcomeType             \n",
       "Adoption         10769  \n",
       "Died               197  \n",
       "Euthanasia        1553  \n",
       "Return_to_owner   4785  \n",
       "Transfer          9406  "
      ]
     },
     "execution_count": 95,
     "metadata": {},
     "output_type": "execute_result"
    }
   ],
   "source": [
    "train_data.groupby('OutcomeType').count()"
   ]
  },
  {
   "cell_type": "markdown",
   "metadata": {},
   "source": [
    "Need to convert the string data to numerical"
   ]
  },
  {
   "cell_type": "code",
   "execution_count": 96,
   "metadata": {
    "collapsed": true
   },
   "outputs": [],
   "source": [
    "# This function operates in place\n",
    "def map_str_to_int(df,col_name):\n",
    "    categories = list(enumerate(np.unique(df[col_name])))\n",
    "    map_dict = { name : i for i, name in categories }              \n",
    "    df[col_name] = df[col_name].map( lambda x: map_dict[x]).astype(int)"
   ]
  },
  {
   "cell_type": "code",
   "execution_count": 97,
   "metadata": {
    "collapsed": false
   },
   "outputs": [],
   "source": [
    "#map_str_to_int(train_data,'Breed')\n",
    "map_str_to_int(train_data,'AnimalType')\n",
    "map_str_to_int(train_data,'SexuponOutcome')\n",
    "map_str_to_int(train_data,'OutcomeType')"
   ]
  },
  {
   "cell_type": "code",
   "execution_count": 98,
   "metadata": {
    "collapsed": false
   },
   "outputs": [
    {
     "data": {
      "text/html": [
       "<div>\n",
       "<table border=\"1\" class=\"dataframe\">\n",
       "  <thead>\n",
       "    <tr style=\"text-align: right;\">\n",
       "      <th></th>\n",
       "      <th>OutcomeType</th>\n",
       "      <th>Name</th>\n",
       "      <th>DateTime</th>\n",
       "      <th>AnimalType</th>\n",
       "      <th>SexuponOutcome</th>\n",
       "      <th>AgeuponOutcome</th>\n",
       "      <th>Breed</th>\n",
       "    </tr>\n",
       "  </thead>\n",
       "  <tbody>\n",
       "    <tr>\n",
       "      <th>0</th>\n",
       "      <td>3</td>\n",
       "      <td>1</td>\n",
       "      <td>1392181200</td>\n",
       "      <td>1</td>\n",
       "      <td>2</td>\n",
       "      <td>365</td>\n",
       "      <td>0</td>\n",
       "    </tr>\n",
       "    <tr>\n",
       "      <th>1</th>\n",
       "      <td>2</td>\n",
       "      <td>1</td>\n",
       "      <td>1381636800</td>\n",
       "      <td>0</td>\n",
       "      <td>3</td>\n",
       "      <td>365</td>\n",
       "      <td>0</td>\n",
       "    </tr>\n",
       "    <tr>\n",
       "      <th>2</th>\n",
       "      <td>0</td>\n",
       "      <td>1</td>\n",
       "      <td>1422680400</td>\n",
       "      <td>1</td>\n",
       "      <td>2</td>\n",
       "      <td>730</td>\n",
       "      <td>0</td>\n",
       "    </tr>\n",
       "    <tr>\n",
       "      <th>3</th>\n",
       "      <td>4</td>\n",
       "      <td>0</td>\n",
       "      <td>1405051200</td>\n",
       "      <td>0</td>\n",
       "      <td>1</td>\n",
       "      <td>21</td>\n",
       "      <td>0</td>\n",
       "    </tr>\n",
       "    <tr>\n",
       "      <th>4</th>\n",
       "      <td>4</td>\n",
       "      <td>0</td>\n",
       "      <td>1384491600</td>\n",
       "      <td>1</td>\n",
       "      <td>2</td>\n",
       "      <td>730</td>\n",
       "      <td>0</td>\n",
       "    </tr>\n",
       "  </tbody>\n",
       "</table>\n",
       "</div>"
      ],
      "text/plain": [
       "   OutcomeType  Name    DateTime  AnimalType  SexuponOutcome  AgeuponOutcome  \\\n",
       "0            3     1  1392181200           1               2             365   \n",
       "1            2     1  1381636800           0               3             365   \n",
       "2            0     1  1422680400           1               2             730   \n",
       "3            4     0  1405051200           0               1              21   \n",
       "4            4     0  1384491600           1               2             730   \n",
       "\n",
       "   Breed  \n",
       "0      0  \n",
       "1      0  \n",
       "2      0  \n",
       "3      0  \n",
       "4      0  "
      ]
     },
     "execution_count": 98,
     "metadata": {},
     "output_type": "execute_result"
    }
   ],
   "source": [
    "train_data.head()"
   ]
  },
  {
   "cell_type": "markdown",
   "metadata": {},
   "source": [
    "## Predict on test data"
   ]
  },
  {
   "cell_type": "code",
   "execution_count": 99,
   "metadata": {
    "collapsed": false
   },
   "outputs": [
    {
     "data": {
      "text/plain": [
       "array([ 3.,  2.,  0., ...,  0.,  4.,  4.])"
      ]
     },
     "execution_count": 99,
     "metadata": {},
     "output_type": "execute_result"
    }
   ],
   "source": [
    "#[['AnimalType','SexuponOutcome','AgeuponOutcome','Breed']]\n",
    "train_data2 = np.array(train_data)\n",
    "train_data = train_data2[:,1:]\n",
    "label = train_data2[:,0]\n",
    "label"
   ]
  },
  {
   "cell_type": "markdown",
   "metadata": {},
   "source": [
    "Import and process test data"
   ]
  },
  {
   "cell_type": "code",
   "execution_count": 100,
   "metadata": {
    "collapsed": false
   },
   "outputs": [
    {
     "data": {
      "text/html": [
       "<div>\n",
       "<table border=\"1\" class=\"dataframe\">\n",
       "  <thead>\n",
       "    <tr style=\"text-align: right;\">\n",
       "      <th></th>\n",
       "      <th>ID</th>\n",
       "      <th>Name</th>\n",
       "      <th>DateTime</th>\n",
       "      <th>AnimalType</th>\n",
       "      <th>SexuponOutcome</th>\n",
       "      <th>AgeuponOutcome</th>\n",
       "      <th>Breed</th>\n",
       "      <th>Color</th>\n",
       "    </tr>\n",
       "  </thead>\n",
       "  <tbody>\n",
       "    <tr>\n",
       "      <th>0</th>\n",
       "      <td>1</td>\n",
       "      <td>Summer</td>\n",
       "      <td>2015-10-12 12:15:00</td>\n",
       "      <td>Dog</td>\n",
       "      <td>Intact Female</td>\n",
       "      <td>10 months</td>\n",
       "      <td>Labrador Retriever Mix</td>\n",
       "      <td>Red/White</td>\n",
       "    </tr>\n",
       "    <tr>\n",
       "      <th>1</th>\n",
       "      <td>2</td>\n",
       "      <td>Cheyenne</td>\n",
       "      <td>2014-07-26 17:59:00</td>\n",
       "      <td>Dog</td>\n",
       "      <td>Spayed Female</td>\n",
       "      <td>2 years</td>\n",
       "      <td>German Shepherd/Siberian Husky</td>\n",
       "      <td>Black/Tan</td>\n",
       "    </tr>\n",
       "    <tr>\n",
       "      <th>2</th>\n",
       "      <td>3</td>\n",
       "      <td>Gus</td>\n",
       "      <td>2016-01-13 12:20:00</td>\n",
       "      <td>Cat</td>\n",
       "      <td>Neutered Male</td>\n",
       "      <td>1 year</td>\n",
       "      <td>Domestic Shorthair Mix</td>\n",
       "      <td>Brown Tabby</td>\n",
       "    </tr>\n",
       "    <tr>\n",
       "      <th>3</th>\n",
       "      <td>4</td>\n",
       "      <td>Pongo</td>\n",
       "      <td>2013-12-28 18:12:00</td>\n",
       "      <td>Dog</td>\n",
       "      <td>Intact Male</td>\n",
       "      <td>4 months</td>\n",
       "      <td>Collie Smooth Mix</td>\n",
       "      <td>Tricolor</td>\n",
       "    </tr>\n",
       "    <tr>\n",
       "      <th>4</th>\n",
       "      <td>5</td>\n",
       "      <td>Skooter</td>\n",
       "      <td>2015-09-24 17:59:00</td>\n",
       "      <td>Dog</td>\n",
       "      <td>Neutered Male</td>\n",
       "      <td>2 years</td>\n",
       "      <td>Miniature Poodle Mix</td>\n",
       "      <td>White</td>\n",
       "    </tr>\n",
       "  </tbody>\n",
       "</table>\n",
       "</div>"
      ],
      "text/plain": [
       "   ID      Name             DateTime AnimalType SexuponOutcome AgeuponOutcome  \\\n",
       "0   1    Summer  2015-10-12 12:15:00        Dog  Intact Female      10 months   \n",
       "1   2  Cheyenne  2014-07-26 17:59:00        Dog  Spayed Female        2 years   \n",
       "2   3       Gus  2016-01-13 12:20:00        Cat  Neutered Male         1 year   \n",
       "3   4     Pongo  2013-12-28 18:12:00        Dog    Intact Male       4 months   \n",
       "4   5   Skooter  2015-09-24 17:59:00        Dog  Neutered Male        2 years   \n",
       "\n",
       "                            Breed        Color  \n",
       "0          Labrador Retriever Mix    Red/White  \n",
       "1  German Shepherd/Siberian Husky    Black/Tan  \n",
       "2          Domestic Shorthair Mix  Brown Tabby  \n",
       "3               Collie Smooth Mix     Tricolor  \n",
       "4            Miniature Poodle Mix        White  "
      ]
     },
     "execution_count": 100,
     "metadata": {},
     "output_type": "execute_result"
    }
   ],
   "source": [
    "original_test_data = test_data = pd.read_csv('../DATA/test.csv')\n",
    "test_data.head()"
   ]
  },
  {
   "cell_type": "code",
   "execution_count": 101,
   "metadata": {
    "collapsed": false
   },
   "outputs": [
    {
     "data": {
      "text/plain": [
       "ID                   0\n",
       "Name              3225\n",
       "DateTime             0\n",
       "AnimalType           0\n",
       "SexuponOutcome       0\n",
       "AgeuponOutcome       6\n",
       "Breed                0\n",
       "Color                0\n",
       "dtype: int64"
      ]
     },
     "execution_count": 101,
     "metadata": {},
     "output_type": "execute_result"
    }
   ],
   "source": [
    "test_data.isnull().sum()"
   ]
  },
  {
   "cell_type": "code",
   "execution_count": 102,
   "metadata": {
    "collapsed": false
   },
   "outputs": [
    {
     "data": {
      "text/html": [
       "<div>\n",
       "<table border=\"1\" class=\"dataframe\">\n",
       "  <thead>\n",
       "    <tr style=\"text-align: right;\">\n",
       "      <th></th>\n",
       "      <th>Name</th>\n",
       "      <th>DateTime</th>\n",
       "      <th>AnimalType</th>\n",
       "      <th>SexuponOutcome</th>\n",
       "      <th>AgeuponOutcome</th>\n",
       "      <th>Breed</th>\n",
       "    </tr>\n",
       "  </thead>\n",
       "  <tbody>\n",
       "    <tr>\n",
       "      <th>0</th>\n",
       "      <td>1</td>\n",
       "      <td>1444622400</td>\n",
       "      <td>1</td>\n",
       "      <td>0</td>\n",
       "      <td>300</td>\n",
       "      <td>0</td>\n",
       "    </tr>\n",
       "    <tr>\n",
       "      <th>1</th>\n",
       "      <td>1</td>\n",
       "      <td>1406347200</td>\n",
       "      <td>1</td>\n",
       "      <td>3</td>\n",
       "      <td>730</td>\n",
       "      <td>0</td>\n",
       "    </tr>\n",
       "    <tr>\n",
       "      <th>2</th>\n",
       "      <td>1</td>\n",
       "      <td>1452661200</td>\n",
       "      <td>0</td>\n",
       "      <td>2</td>\n",
       "      <td>365</td>\n",
       "      <td>0</td>\n",
       "    </tr>\n",
       "    <tr>\n",
       "      <th>3</th>\n",
       "      <td>1</td>\n",
       "      <td>1388206800</td>\n",
       "      <td>1</td>\n",
       "      <td>1</td>\n",
       "      <td>120</td>\n",
       "      <td>0</td>\n",
       "    </tr>\n",
       "    <tr>\n",
       "      <th>4</th>\n",
       "      <td>1</td>\n",
       "      <td>1443067200</td>\n",
       "      <td>1</td>\n",
       "      <td>2</td>\n",
       "      <td>730</td>\n",
       "      <td>0</td>\n",
       "    </tr>\n",
       "  </tbody>\n",
       "</table>\n",
       "</div>"
      ],
      "text/plain": [
       "   Name    DateTime  AnimalType  SexuponOutcome  AgeuponOutcome  Breed\n",
       "0     1  1444622400           1               0             300      0\n",
       "1     1  1406347200           1               3             730      0\n",
       "2     1  1452661200           0               2             365      0\n",
       "3     1  1388206800           1               1             120      0\n",
       "4     1  1443067200           1               2             730      0"
      ]
     },
     "execution_count": 102,
     "metadata": {},
     "output_type": "execute_result"
    }
   ],
   "source": [
    "useful_columns = ['Name','DateTime','AnimalType','SexuponOutcome','AgeuponOutcome','Breed']\n",
    "\n",
    "test_data2 = test_data[useful_columns]\n",
    "\n",
    "test_data2.loc[test_data2.AgeuponOutcome.isnull(),'AgeuponOutcome'] = '1 year' #median age\n",
    "test_data2.AgeuponOutcome = test_data2.AgeuponOutcome.apply(convert_date)\n",
    "test_data2.Breed = test_data2.Breed.apply(is_purebreed)\n",
    "test_data2.Name = test_data2.Name.apply(has_name)\n",
    "test_data2.DateTime = test_data2.DateTime.apply(convert_datetime)\n",
    "\n",
    "map_str_to_int(test_data2,'AnimalType')\n",
    "map_str_to_int(test_data2,'SexuponOutcome')\n",
    "\n",
    "test_data2.head()\n"
   ]
  },
  {
   "cell_type": "code",
   "execution_count": 103,
   "metadata": {
    "collapsed": false
   },
   "outputs": [],
   "source": [
    "test_data = np.array(test_data2)"
   ]
  },
  {
   "cell_type": "markdown",
   "metadata": {},
   "source": [
    "#### XGBOOST"
   ]
  },
  {
   "cell_type": "code",
   "execution_count": 113,
   "metadata": {
    "collapsed": true
   },
   "outputs": [
    {
     "name": "stderr",
     "output_type": "stream",
     "text": [
      "[0]\ttrain-mlogloss:1.508326\n",
      "[1]\ttrain-mlogloss:1.426109\n",
      "[2]\ttrain-mlogloss:1.357440\n",
      "[3]\ttrain-mlogloss:1.299060\n",
      "[4]\ttrain-mlogloss:1.248829\n",
      "[5]\ttrain-mlogloss:1.205102\n",
      "[6]\ttrain-mlogloss:1.166604\n",
      "[7]\ttrain-mlogloss:1.132723\n",
      "[8]\ttrain-mlogloss:1.102603\n",
      "[9]\ttrain-mlogloss:1.075911\n",
      "[10]\ttrain-mlogloss:1.052022\n",
      "[11]\ttrain-mlogloss:1.030734\n",
      "[12]\ttrain-mlogloss:1.011690\n",
      "[13]\ttrain-mlogloss:0.994520\n",
      "[14]\ttrain-mlogloss:0.978730\n",
      "[15]\ttrain-mlogloss:0.964430\n",
      "[16]\ttrain-mlogloss:0.951613\n",
      "[17]\ttrain-mlogloss:0.940010\n",
      "[18]\ttrain-mlogloss:0.929499\n",
      "[19]\ttrain-mlogloss:0.919961\n",
      "[20]\ttrain-mlogloss:0.911219\n",
      "[21]\ttrain-mlogloss:0.903158\n",
      "[22]\ttrain-mlogloss:0.895824\n",
      "[23]\ttrain-mlogloss:0.889042\n",
      "[24]\ttrain-mlogloss:0.882595\n",
      "[25]\ttrain-mlogloss:0.876777\n",
      "[26]\ttrain-mlogloss:0.871391\n",
      "[27]\ttrain-mlogloss:0.866376\n",
      "[28]\ttrain-mlogloss:0.861738\n",
      "[29]\ttrain-mlogloss:0.857281\n",
      "[30]\ttrain-mlogloss:0.853266\n",
      "[31]\ttrain-mlogloss:0.849385\n",
      "[32]\ttrain-mlogloss:0.845901\n",
      "[33]\ttrain-mlogloss:0.842466\n",
      "[34]\ttrain-mlogloss:0.839101\n",
      "[35]\ttrain-mlogloss:0.836057\n",
      "[36]\ttrain-mlogloss:0.833086\n",
      "[37]\ttrain-mlogloss:0.830261\n",
      "[38]\ttrain-mlogloss:0.827814\n",
      "[39]\ttrain-mlogloss:0.825291\n",
      "[40]\ttrain-mlogloss:0.822941\n",
      "[41]\ttrain-mlogloss:0.820821\n",
      "[42]\ttrain-mlogloss:0.818683\n",
      "[43]\ttrain-mlogloss:0.816822\n",
      "[44]\ttrain-mlogloss:0.815201\n",
      "[45]\ttrain-mlogloss:0.813269\n",
      "[46]\ttrain-mlogloss:0.811416\n",
      "[47]\ttrain-mlogloss:0.809916\n",
      "[48]\ttrain-mlogloss:0.808316\n",
      "[49]\ttrain-mlogloss:0.806859\n",
      "[50]\ttrain-mlogloss:0.805275\n",
      "[51]\ttrain-mlogloss:0.804055\n",
      "[52]\ttrain-mlogloss:0.802685\n",
      "[53]\ttrain-mlogloss:0.801436\n",
      "[54]\ttrain-mlogloss:0.800294\n",
      "[55]\ttrain-mlogloss:0.799118\n",
      "[56]\ttrain-mlogloss:0.798070\n",
      "[57]\ttrain-mlogloss:0.796923\n",
      "[58]\ttrain-mlogloss:0.795971\n",
      "[59]\ttrain-mlogloss:0.794626\n",
      "[60]\ttrain-mlogloss:0.793875\n",
      "[61]\ttrain-mlogloss:0.792543\n",
      "[62]\ttrain-mlogloss:0.791402\n",
      "[63]\ttrain-mlogloss:0.790309\n",
      "[64]\ttrain-mlogloss:0.789088\n",
      "[65]\ttrain-mlogloss:0.788027\n",
      "[66]\ttrain-mlogloss:0.786888\n",
      "[67]\ttrain-mlogloss:0.785693\n",
      "[68]\ttrain-mlogloss:0.784560\n",
      "[69]\ttrain-mlogloss:0.783409\n",
      "[70]\ttrain-mlogloss:0.782488\n",
      "[71]\ttrain-mlogloss:0.781702\n",
      "[72]\ttrain-mlogloss:0.780973\n",
      "[73]\ttrain-mlogloss:0.780054\n",
      "[74]\ttrain-mlogloss:0.779273\n",
      "[75]\ttrain-mlogloss:0.778302\n",
      "[76]\ttrain-mlogloss:0.777517\n",
      "[77]\ttrain-mlogloss:0.776578\n",
      "[78]\ttrain-mlogloss:0.775823\n",
      "[79]\ttrain-mlogloss:0.775168\n",
      "[80]\ttrain-mlogloss:0.774562\n",
      "[81]\ttrain-mlogloss:0.773806\n",
      "[82]\ttrain-mlogloss:0.772871\n",
      "[83]\ttrain-mlogloss:0.772227\n",
      "[84]\ttrain-mlogloss:0.771589\n",
      "[85]\ttrain-mlogloss:0.770913\n",
      "[86]\ttrain-mlogloss:0.770042\n",
      "[87]\ttrain-mlogloss:0.769238\n",
      "[88]\ttrain-mlogloss:0.768643\n",
      "[89]\ttrain-mlogloss:0.767790\n",
      "[90]\ttrain-mlogloss:0.767125\n",
      "[91]\ttrain-mlogloss:0.766265\n",
      "[92]\ttrain-mlogloss:0.765447\n",
      "[93]\ttrain-mlogloss:0.764696\n",
      "[94]\ttrain-mlogloss:0.764012\n",
      "[95]\ttrain-mlogloss:0.763115\n",
      "[96]\ttrain-mlogloss:0.762214\n",
      "[97]\ttrain-mlogloss:0.761649\n",
      "[98]\ttrain-mlogloss:0.760940\n",
      "[99]\ttrain-mlogloss:0.760349\n",
      "[100]\ttrain-mlogloss:0.759510\n",
      "[101]\ttrain-mlogloss:0.758967\n",
      "[102]\ttrain-mlogloss:0.758490\n",
      "[103]\ttrain-mlogloss:0.758027\n",
      "[104]\ttrain-mlogloss:0.757373\n",
      "[105]\ttrain-mlogloss:0.756753\n",
      "[106]\ttrain-mlogloss:0.756276\n",
      "[107]\ttrain-mlogloss:0.755774\n",
      "[108]\ttrain-mlogloss:0.755122\n",
      "[109]\ttrain-mlogloss:0.754710\n",
      "[110]\ttrain-mlogloss:0.754196\n",
      "[111]\ttrain-mlogloss:0.753708\n",
      "[112]\ttrain-mlogloss:0.752910\n",
      "[113]\ttrain-mlogloss:0.752320\n",
      "[114]\ttrain-mlogloss:0.751657\n",
      "[115]\ttrain-mlogloss:0.751000\n",
      "[116]\ttrain-mlogloss:0.750499\n",
      "[117]\ttrain-mlogloss:0.749901\n",
      "[118]\ttrain-mlogloss:0.749566\n",
      "[119]\ttrain-mlogloss:0.748956\n",
      "[120]\ttrain-mlogloss:0.748661\n",
      "[121]\ttrain-mlogloss:0.748018\n",
      "[122]\ttrain-mlogloss:0.747681\n",
      "[123]\ttrain-mlogloss:0.747183\n",
      "[124]\ttrain-mlogloss:0.746415\n",
      "[125]\ttrain-mlogloss:0.745883\n",
      "[126]\ttrain-mlogloss:0.745079\n",
      "[127]\ttrain-mlogloss:0.744663\n",
      "[128]\ttrain-mlogloss:0.744010\n",
      "[129]\ttrain-mlogloss:0.743525\n",
      "[130]\ttrain-mlogloss:0.742740\n",
      "[131]\ttrain-mlogloss:0.742116\n",
      "[132]\ttrain-mlogloss:0.741712\n",
      "[133]\ttrain-mlogloss:0.741197\n",
      "[134]\ttrain-mlogloss:0.740639\n",
      "[135]\ttrain-mlogloss:0.740006\n",
      "[136]\ttrain-mlogloss:0.739389\n",
      "[137]\ttrain-mlogloss:0.738549\n",
      "[138]\ttrain-mlogloss:0.737900\n",
      "[139]\ttrain-mlogloss:0.737323\n",
      "[140]\ttrain-mlogloss:0.736973\n",
      "[141]\ttrain-mlogloss:0.736534\n",
      "[142]\ttrain-mlogloss:0.736246\n",
      "[143]\ttrain-mlogloss:0.736015\n",
      "[144]\ttrain-mlogloss:0.735560\n",
      "[145]\ttrain-mlogloss:0.735052\n",
      "[146]\ttrain-mlogloss:0.734450\n",
      "[147]\ttrain-mlogloss:0.733782\n",
      "[148]\ttrain-mlogloss:0.733440\n",
      "[149]\ttrain-mlogloss:0.733025\n",
      "[150]\ttrain-mlogloss:0.732455\n",
      "[151]\ttrain-mlogloss:0.732026\n",
      "[152]\ttrain-mlogloss:0.731630\n",
      "[153]\ttrain-mlogloss:0.731064\n",
      "[154]\ttrain-mlogloss:0.730422\n",
      "[155]\ttrain-mlogloss:0.729766\n",
      "[156]\ttrain-mlogloss:0.729147\n",
      "[157]\ttrain-mlogloss:0.728480\n",
      "[158]\ttrain-mlogloss:0.727916\n",
      "[159]\ttrain-mlogloss:0.727402\n",
      "[160]\ttrain-mlogloss:0.726954\n",
      "[161]\ttrain-mlogloss:0.726719\n",
      "[162]\ttrain-mlogloss:0.726450\n",
      "[163]\ttrain-mlogloss:0.726112\n",
      "[164]\ttrain-mlogloss:0.725821\n",
      "[165]\ttrain-mlogloss:0.725604\n",
      "[166]\ttrain-mlogloss:0.724910\n",
      "[167]\ttrain-mlogloss:0.724378\n",
      "[168]\ttrain-mlogloss:0.723905\n",
      "[169]\ttrain-mlogloss:0.723696\n",
      "[170]\ttrain-mlogloss:0.723323\n",
      "[171]\ttrain-mlogloss:0.723017\n",
      "[172]\ttrain-mlogloss:0.722478\n",
      "[173]\ttrain-mlogloss:0.721975\n",
      "[174]\ttrain-mlogloss:0.721484\n",
      "[175]\ttrain-mlogloss:0.721050\n",
      "[176]\ttrain-mlogloss:0.720494\n",
      "[177]\ttrain-mlogloss:0.720148\n",
      "[178]\ttrain-mlogloss:0.719615\n",
      "[179]\ttrain-mlogloss:0.719106\n",
      "[180]\ttrain-mlogloss:0.718505\n",
      "[181]\ttrain-mlogloss:0.718228\n",
      "[182]\ttrain-mlogloss:0.717652\n",
      "[183]\ttrain-mlogloss:0.717236\n",
      "[184]\ttrain-mlogloss:0.716647\n",
      "[185]\ttrain-mlogloss:0.716147\n",
      "[186]\ttrain-mlogloss:0.715595\n",
      "[187]\ttrain-mlogloss:0.715268\n",
      "[188]\ttrain-mlogloss:0.714932\n",
      "[189]\ttrain-mlogloss:0.714591\n",
      "[190]\ttrain-mlogloss:0.714151\n",
      "[191]\ttrain-mlogloss:0.713766\n",
      "[192]\ttrain-mlogloss:0.713433\n",
      "[193]\ttrain-mlogloss:0.712877\n",
      "[194]\ttrain-mlogloss:0.712411\n",
      "[195]\ttrain-mlogloss:0.711884\n",
      "[196]\ttrain-mlogloss:0.711397\n",
      "[197]\ttrain-mlogloss:0.710949\n",
      "[198]\ttrain-mlogloss:0.710519\n",
      "[199]\ttrain-mlogloss:0.709731\n"
     ]
    }
   ],
   "source": [
    "dtrain = xgb.DMatrix(train_data,label=label)\n",
    "dtest = xgb.DMatrix(test_data)\n",
    "param = {'max_depth':6, #depth of tree\n",
    "         'eta':.1,  #step shrinkage size\n",
    "         'silent':1,  #verbose=0,notverbose=1\n",
    "         'objective':'multi:softprob',  #soft max for multiclass with prob of each class\n",
    "         'num_class':5, #number of classes\n",
    "         'eval_metric':'mlogloss', #evaluate with logloss for multiclass\n",
    "         'nthread':4 #use 4 threads\n",
    "         } \n",
    "#consider playing with gamma in the above parameters\n",
    "\n",
    "num_round = 200\n",
    "watchlist  = [(dtrain,'train')]\n",
    "bst = xgb.train(param, dtrain, num_round, watchlist)\n",
    "\n"
   ]
  },
  {
   "cell_type": "markdown",
   "metadata": {},
   "source": [
    "##### Cross validation grid search"
   ]
  },
  {
   "cell_type": "code",
   "execution_count": 143,
   "metadata": {
    "collapsed": false
   },
   "outputs": [
    {
     "name": "stdout",
     "output_type": "stream",
     "text": [
      "Fitting 5 folds for each of 96 candidates, totalling 480 fits\n"
     ]
    },
    {
     "name": "stderr",
     "output_type": "stream",
     "text": [
      "[Parallel(n_jobs=1)]: Done  49 tasks       | elapsed:  2.2min\n",
      "[Parallel(n_jobs=1)]: Done 199 tasks       | elapsed: 13.3min\n",
      "[Parallel(n_jobs=1)]: Done 449 tasks       | elapsed: 29.8min\n",
      "[Parallel(n_jobs=1)]: Done 480 out of 480 | elapsed: 32.7min finished\n"
     ]
    },
    {
     "name": "stdout",
     "output_type": "stream",
     "text": [
      "Log Loss score: -0.829475968846\n",
      "learning_rate: 0.1\n",
      "max_depth: 6\n",
      "n_estimators: 200\n",
      "nthread: 4\n",
      "objective: 'multi:softprob'\n",
      "silent: 1\n"
     ]
    }
   ],
   "source": [
    "gbm = xgb.XGBClassifier()\n",
    "grid_params = {'max_depth':list(range(3,11)), #depth of tree\n",
    "             'learning_rate':[0,0.1,0.5,1],  #step shrinkage size (eta)\n",
    "             'silent':[1],  #verbose=0,notverbose=1\n",
    "             'objective':['multi:softprob'],  #soft max for multiclass with prob of each class\n",
    "             'n_estimators':[30,100,200], #number of trees\n",
    "             #'num_class':[5], #number of classes\n",
    "             #'eval_metric':['mlogloss'], #evaluate with logloss for multiclass\n",
    "             'nthread':[4] #use 4 threads\n",
    "             } \n",
    "cv = StratifiedKFold(label,n_folds=5,shuffle=True)\n",
    "grid = GridSearchCV(gbm, grid_params,scoring='log_loss',cv=cv, verbose=1, refit=True)\n",
    "grid.fit(train_data, label)\n",
    "\n",
    "best_parameters, score, _ = max(grid.grid_scores_, key=lambda x: x[1])\n",
    "print('Log Loss score:', score)\n",
    "for param_name in sorted(best_parameters.keys()):\n",
    "    print(\"%s: %r\" % (param_name, best_parameters[param_name]))"
   ]
  },
  {
   "cell_type": "code",
   "execution_count": 144,
   "metadata": {
    "collapsed": false
   },
   "outputs": [
    {
     "data": {
      "text/html": [
       "<div>\n",
       "<table border=\"1\" class=\"dataframe\">\n",
       "  <thead>\n",
       "    <tr style=\"text-align: right;\">\n",
       "      <th></th>\n",
       "      <th>ID</th>\n",
       "      <th>Adoption</th>\n",
       "      <th>Died</th>\n",
       "      <th>Euthanasia</th>\n",
       "      <th>Return_to_owner</th>\n",
       "      <th>Transfer</th>\n",
       "    </tr>\n",
       "  </thead>\n",
       "  <tbody>\n",
       "    <tr>\n",
       "      <th>0</th>\n",
       "      <td>1</td>\n",
       "      <td>0.042894</td>\n",
       "      <td>0.001633</td>\n",
       "      <td>0.020324</td>\n",
       "      <td>0.154239</td>\n",
       "      <td>0.780909</td>\n",
       "    </tr>\n",
       "    <tr>\n",
       "      <th>1</th>\n",
       "      <td>2</td>\n",
       "      <td>0.604256</td>\n",
       "      <td>0.000777</td>\n",
       "      <td>0.030595</td>\n",
       "      <td>0.229634</td>\n",
       "      <td>0.134738</td>\n",
       "    </tr>\n",
       "    <tr>\n",
       "      <th>2</th>\n",
       "      <td>3</td>\n",
       "      <td>0.616000</td>\n",
       "      <td>0.001140</td>\n",
       "      <td>0.003323</td>\n",
       "      <td>0.138099</td>\n",
       "      <td>0.241437</td>\n",
       "    </tr>\n",
       "    <tr>\n",
       "      <th>3</th>\n",
       "      <td>4</td>\n",
       "      <td>0.244507</td>\n",
       "      <td>0.000879</td>\n",
       "      <td>0.026500</td>\n",
       "      <td>0.126168</td>\n",
       "      <td>0.601946</td>\n",
       "    </tr>\n",
       "    <tr>\n",
       "      <th>4</th>\n",
       "      <td>5</td>\n",
       "      <td>0.586514</td>\n",
       "      <td>0.001957</td>\n",
       "      <td>0.015831</td>\n",
       "      <td>0.225554</td>\n",
       "      <td>0.170144</td>\n",
       "    </tr>\n",
       "  </tbody>\n",
       "</table>\n",
       "</div>"
      ],
      "text/plain": [
       "   ID  Adoption      Died  Euthanasia  Return_to_owner  Transfer\n",
       "0   1  0.042894  0.001633    0.020324         0.154239  0.780909\n",
       "1   2  0.604256  0.000777    0.030595         0.229634  0.134738\n",
       "2   3  0.616000  0.001140    0.003323         0.138099  0.241437\n",
       "3   4  0.244507  0.000879    0.026500         0.126168  0.601946\n",
       "4   5  0.586514  0.001957    0.015831         0.225554  0.170144"
      ]
     },
     "execution_count": 144,
     "metadata": {},
     "output_type": "execute_result"
    }
   ],
   "source": [
    "preds = bst.predict(dtest)\n",
    "result = pd.DataFrame(preds,columns=class_headers, index=original_test_data.ID).reset_index()\n",
    "result.head()"
   ]
  },
  {
   "cell_type": "code",
   "execution_count": 112,
   "metadata": {
    "collapsed": true
   },
   "outputs": [],
   "source": [
    "result.to_csv('./solution004.csv',index=False)"
   ]
  },
  {
   "cell_type": "markdown",
   "metadata": {
    "collapsed": true
   },
   "source": [
    "### Outcome\n",
    "\n",
    "We improved even more with this one.\n",
    "\n",
    "Score: 0.81651\n"
   ]
  },
  {
   "cell_type": "code",
   "execution_count": null,
   "metadata": {
    "collapsed": true
   },
   "outputs": [],
   "source": []
  }
 ],
 "metadata": {
  "kernelspec": {
   "display_name": "Python 3",
   "language": "python",
   "name": "python3"
  },
  "language_info": {
   "codemirror_mode": {
    "name": "ipython",
    "version": 3
   },
   "file_extension": ".py",
   "mimetype": "text/x-python",
   "name": "python",
   "nbconvert_exporter": "python",
   "pygments_lexer": "ipython3",
   "version": "3.5.1"
  }
 },
 "nbformat": 4,
 "nbformat_minor": 0
}
